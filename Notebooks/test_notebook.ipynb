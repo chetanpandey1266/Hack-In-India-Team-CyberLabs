{
  "nbformat": 4,
  "nbformat_minor": 0,
  "metadata": {
    "colab": {
      "name": "test_notebook.ipynb",
      "provenance": [],
      "collapsed_sections": []
    },
    "kernelspec": {
      "name": "python3",
      "display_name": "Python 3"
    }
  },
  "cells": [
    {
      "cell_type": "code",
      "metadata": {
        "id": "ld-_b84jmqV6",
        "colab_type": "code",
        "colab": {
          "base_uri": "https://localhost:8080/",
          "height": 90
        },
        "outputId": "d1d354b6-e96d-493f-e37e-09ce8efd6841"
      },
      "source": [
        "from fastai import * \n",
        "from fastai.vision import *\n",
        "!pip install efficientnet-pytorch  # in case you are using efficientnet"
      ],
      "execution_count": 26,
      "outputs": [
        {
          "output_type": "stream",
          "text": [
            "Requirement already satisfied: efficientnet-pytorch in /usr/local/lib/python3.6/dist-packages (0.6.3)\n",
            "Requirement already satisfied: torch in /usr/local/lib/python3.6/dist-packages (from efficientnet-pytorch) (1.5.1+cu101)\n",
            "Requirement already satisfied: numpy in /usr/local/lib/python3.6/dist-packages (from torch->efficientnet-pytorch) (1.18.5)\n",
            "Requirement already satisfied: future in /usr/local/lib/python3.6/dist-packages (from torch->efficientnet-pytorch) (0.16.0)\n"
          ],
          "name": "stdout"
        }
      ]
    },
    {
      "cell_type": "code",
      "metadata": {
        "id": "YJiL43hDqVK-",
        "colab_type": "code",
        "colab": {}
      },
      "source": [
        "# Just to ignore warnings\n",
        "import warnings\n",
        "warnings.filterwarnings('ignore')"
      ],
      "execution_count": 27,
      "outputs": []
    },
    {
      "cell_type": "code",
      "metadata": {
        "id": "mt4iO41ElH75",
        "colab_type": "code",
        "colab": {
          "base_uri": "https://localhost:8080/",
          "height": 35
        },
        "outputId": "dcf5b00f-ca7d-4ec7-ab08-54684342620a"
      },
      "source": [
        "im_path = \"/content/drive/My Drive/Hack In India/test_images/MCUCXR_0058_0.png\"\n",
        "\n",
        "model_path1 = \"/content/drive/My Drive/Hack In India\"\n",
        "model_path2 = \"/content/drive/My Drive/Hack In India\"\n",
        "\n",
        "learn1 = load_learner(model_path1, \"model.pkl\")\n",
        "learn2 = load_learner(model_path2, \"resnet50.pkl\")\n",
        "\n",
        "\n",
        "p1 = learn1.predict(open_image(im_path))[2].numpy().astype(np.float32)\n",
        "p2 = learn2.predict(open_image(im_path))[2].numpy().astype(np.float32)\n",
        "\n",
        "w1 = 0.4\n",
        "w2 = 0.6\n",
        "\n",
        "final_output = w1*p1 + w2*p2\n",
        "\n",
        "final_output = final_output.tolist()\n",
        "\n",
        "print(final_output)"
      ],
      "execution_count": 28,
      "outputs": [
        {
          "output_type": "stream",
          "text": [
            "[0.17740969359874725, 0.8225903511047363]\n"
          ],
          "name": "stdout"
        }
      ]
    },
    {
      "cell_type": "code",
      "metadata": {
        "id": "hYdbEWB1m-t_",
        "colab_type": "code",
        "colab": {
          "base_uri": "https://localhost:8080/",
          "height": 35
        },
        "outputId": "44906bdd-0f80-4a46-a4d1-d9190368ce6c"
      },
      "source": [
        "if(final_output[0] > final_output[1]):\n",
        "    print(\"You are diagnosed positive for Tuberculosis\")\n",
        "else:\n",
        "    print(\"You are diagnosed negative for Tuberculosis\")"
      ],
      "execution_count": 29,
      "outputs": [
        {
          "output_type": "stream",
          "text": [
            "You are diagnosed negative for Tuberculosis\n"
          ],
          "name": "stdout"
        }
      ]
    },
    {
      "cell_type": "code",
      "metadata": {
        "id": "nUmInuRHq0mk",
        "colab_type": "code",
        "colab": {}
      },
      "source": [
        ""
      ],
      "execution_count": null,
      "outputs": []
    }
  ]
}